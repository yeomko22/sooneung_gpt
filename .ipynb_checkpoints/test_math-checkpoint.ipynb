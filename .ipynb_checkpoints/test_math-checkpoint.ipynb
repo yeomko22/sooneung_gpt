{
 "cells": [
  {
   "cell_type": "code",
   "execution_count": 8,
   "id": "2ee19b42-efac-49b1-b485-193131e8a4ed",
   "metadata": {},
   "outputs": [],
   "source": [
    "from openai import OpenAI\n",
    "import os\n",
    "\n",
    "client = OpenAI(api_key=os.environ[\"OPENAI_API_KEY\"])"
   ]
  },
  {
   "cell_type": "code",
   "execution_count": 9,
   "id": "5156f2ff-9792-46bf-acfa-b11422c43ac7",
   "metadata": {},
   "outputs": [],
   "source": [
    "system_message = \"\"\"\n",
    "당신은 한국의 고3 수험생입니다.\n",
    "혼신의 힘을 다해서 국어 영역 시험을 쳐야합니다.\n",
    "\"\"\""
   ]
  },
  {
   "cell_type": "code",
   "execution_count": 10,
   "id": "bec1e382-2723-4b1c-bb86-f542c207df76",
   "metadata": {},
   "outputs": [],
   "source": [
    "def request_chat_completion(prompt):\n",
    "    chat_completion = client.chat.completions.create(\n",
    "        messages=[\n",
    "            {\"role\": \"system\", \"content\": system_message},\n",
    "            {\"role\": \"user\", \"content\": prompt}\n",
    "        ],\n",
    "        model=\"gpt-4-1106-preview\",\n",
    "    )\n",
    "    return chat_completion.choices[0].message.content"
   ]
  },
  {
   "cell_type": "code",
   "execution_count": 11,
   "id": "48bc2ba8-951b-4455-8f0a-7d4ca294626a",
   "metadata": {},
   "outputs": [
    {
     "data": {
      "text/plain": [
       "'네, 준비 되었습니다! 제가 한국의 고3 수험생이라 가정하자면, 국어 영역 시험을 치르기 위한 준비는 여러 단계로 이뤄져 있어야 합니다. 여기 몇 가지 팁을 드릴게요:\\n\\n1. **기본 개념 복습**: 문법, 문학, 비문학 등 국어 시험의 모든 영역에 걸쳐 기본적인 개념 및 이론을 체계적으로 복습하세요.\\n\\n2. **모의고사 연습**: 실전처럼 타이머를 세팅하고 과거 기출문제나 모의고사를 풀어보며 시간 관리 능력을 향상시키세요.\\n\\n3. **약점 보완**: 틀린 문제나 이해가 잘 안 가는 부분을 중점적으로 공부하여 약점을 보완하세요.\\n\\n4. **독서 습관**: 다양한 종류의 글을 읽어보면서 독해력을 키우고, 평소에도 어휘력을 확장할 수 있는 독서를 하세요.\\n\\n5. **스트레스 관리**: 시험을 앞두고 지나친 스트레스는 피로하게 만들 수 있으니, 적절한 휴식과 운동을 통해 몸과 마음을 가다듬으세요.\\n\\n6. **일정 관리**: 남은 시간 동안 할 일을 계획하고 체크리스트를 만들어 체계적으로 공부할 수 있도록 정리하세요.\\n\\n7. **시험 전 전략**: 글을 빠르게 읽고 중요한 정보를 찾아내는 연습을 하고, 시험 전 문제 유형별로 접근 전략을 생각해두세요.\\n\\n이런 준비 과정을 통해 국어 시험에 임할 준비를 할 수 있을 것입니다. 시험 당일에는 마음을 차분히 가다듬고, 최선을 다해 문제를 풀어 보세요. 할 수 있습니다!'"
      ]
     },
     "execution_count": 11,
     "metadata": {},
     "output_type": "execute_result"
    }
   ],
   "source": [
    "request_chat_completion(\"준비 됐나요?\")"
   ]
  },
  {
   "cell_type": "markdown",
   "id": "ffd921f8-3775-4ab4-916c-fbd249a1390d",
   "metadata": {},
   "source": [
    "## 가보자구~"
   ]
  },
  {
   "cell_type": "code",
   "execution_count": 13,
   "id": "3ad92b57-3b72-4881-8ba6-cf08d232cf2b",
   "metadata": {},
   "outputs": [],
   "source": [
    "import json\n",
    "\n",
    "with open(\"korean_2024.json\") as fr:\n",
    "    data = json.loads(fr.read())"
   ]
  },
  {
   "cell_type": "code",
   "execution_count": 16,
   "id": "0e322066-4f8c-49ea-b0c8-031b15eab43e",
   "metadata": {},
   "outputs": [],
   "source": [
    "prompt_template = \"\"\"\n",
    "지문을 읽고 문제를 풀어주세요.\n",
    "풀이 과정을 먼저 작성하고, 마지막에 답을 작성하세요.\n",
    "인생에 정말 중요한 시험이니, 신중하게 문제를 풀어주세요.\n",
    "아래 포맷으로 답변을 작성해주세요.\n",
    "\n",
    "풀이 과정: <단계별 풀이 과정>\n",
    "정답: <정답에 해당하는 선택지>\n",
    "\n",
    "---\n",
    "지문: {paragraph}\n",
    "\n",
    "문제: {question}\n",
    "---\n",
    "\"\"\".strip()"
   ]
  },
  {
   "cell_type": "code",
   "execution_count": 17,
   "id": "402193b7-da54-48e5-82b0-a85fec002b33",
   "metadata": {},
   "outputs": [
    {
     "data": {
      "application/vnd.jupyter.widget-view+json": {
       "model_id": "1da04765df6d49a9bd0a535c423223f9",
       "version_major": 2,
       "version_minor": 0
      },
      "text/plain": [
       "  0%|          | 0/3 [00:00<?, ?it/s]"
      ]
     },
     "metadata": {},
     "output_type": "display_data"
    },
    {
     "data": {
      "application/vnd.jupyter.widget-view+json": {
       "model_id": "07d5e91f923d481986b83ffbee2dd781",
       "version_major": 2,
       "version_minor": 0
      },
      "text/plain": [
       "  0%|          | 0/4 [00:00<?, ?it/s]"
      ]
     },
     "metadata": {},
     "output_type": "display_data"
    },
    {
     "data": {
      "application/vnd.jupyter.widget-view+json": {
       "model_id": "04232000b1c848ea8baad94343c28afa",
       "version_major": 2,
       "version_minor": 0
      },
      "text/plain": [
       "  0%|          | 0/4 [00:00<?, ?it/s]"
      ]
     },
     "metadata": {},
     "output_type": "display_data"
    },
    {
     "data": {
      "application/vnd.jupyter.widget-view+json": {
       "model_id": "64dba6f777bb491691e54237ed57c205",
       "version_major": 2,
       "version_minor": 0
      },
      "text/plain": [
       "  0%|          | 0/6 [00:00<?, ?it/s]"
      ]
     },
     "metadata": {},
     "output_type": "display_data"
    },
    {
     "data": {
      "application/vnd.jupyter.widget-view+json": {
       "model_id": "7d216b04f0c64e14a7e88bdc99b4970e",
       "version_major": 2,
       "version_minor": 0
      },
      "text/plain": [
       "  0%|          | 0/4 [00:00<?, ?it/s]"
      ]
     },
     "metadata": {},
     "output_type": "display_data"
    },
    {
     "data": {
      "application/vnd.jupyter.widget-view+json": {
       "model_id": "5becee6ebe1945f09df36cb2b509967a",
       "version_major": 2,
       "version_minor": 0
      },
      "text/plain": [
       "  0%|          | 0/6 [00:00<?, ?it/s]"
      ]
     },
     "metadata": {},
     "output_type": "display_data"
    },
    {
     "data": {
      "application/vnd.jupyter.widget-view+json": {
       "model_id": "d217d64ac3fd4d33a1d92837e6fbd3d3",
       "version_major": 2,
       "version_minor": 0
      },
      "text/plain": [
       "  0%|          | 0/4 [00:00<?, ?it/s]"
      ]
     },
     "metadata": {},
     "output_type": "display_data"
    },
    {
     "data": {
      "application/vnd.jupyter.widget-view+json": {
       "model_id": "64b5cd19953c4ce28a04fd1a7e82d909",
       "version_major": 2,
       "version_minor": 0
      },
      "text/plain": [
       "  0%|          | 0/3 [00:00<?, ?it/s]"
      ]
     },
     "metadata": {},
     "output_type": "display_data"
    },
    {
     "data": {
      "application/vnd.jupyter.widget-view+json": {
       "model_id": "31c034a4614b40fbbf67ef55cfa1e4a1",
       "version_major": 2,
       "version_minor": 0
      },
      "text/plain": [
       "  0%|          | 0/3 [00:00<?, ?it/s]"
      ]
     },
     "metadata": {},
     "output_type": "display_data"
    },
    {
     "data": {
      "application/vnd.jupyter.widget-view+json": {
       "model_id": "fa8dda632e52432da9f369ec166baf9b",
       "version_major": 2,
       "version_minor": 0
      },
      "text/plain": [
       "  0%|          | 0/5 [00:00<?, ?it/s]"
      ]
     },
     "metadata": {},
     "output_type": "display_data"
    },
    {
     "data": {
      "application/vnd.jupyter.widget-view+json": {
       "model_id": "4aad45c76a3b4a1bb99ad0b76fa4d335",
       "version_major": 2,
       "version_minor": 0
      },
      "text/plain": [
       "  0%|          | 0/3 [00:00<?, ?it/s]"
      ]
     },
     "metadata": {},
     "output_type": "display_data"
    }
   ],
   "source": [
    "from tqdm.notebook import tqdm\n",
    "import json\n",
    "\n",
    "_id = 0\n",
    "for question_dict in data:\n",
    "    paragraph = question_dict[\"paragraph\"]\n",
    "    questions = question_dict[\"questions\"]\n",
    "    for question in tqdm(questions):\n",
    "        _id += 1\n",
    "        prompt = prompt_template.format(\n",
    "            paragraph=paragraph.strip(),\n",
    "            question=question.strip()\n",
    "        )\n",
    "        try:\n",
    "            gpt_answer = request_chat_completion(prompt)\n",
    "            with open(f\"./answers/2024/{str(_id).zfill(2)}.txt\", \"w\") as fw:\n",
    "                fw.write(gpt_answer)\n",
    "        except Exception as e:\n",
    "            print(\"exception!\", e, paragraph, question)\n",
    "            continue"
   ]
  },
  {
   "cell_type": "code",
   "execution_count": null,
   "id": "6e286bb6-918a-4f9a-96d8-15057080ef5d",
   "metadata": {},
   "outputs": [],
   "source": []
  }
 ],
 "metadata": {
  "kernelspec": {
   "display_name": "Python 3 (ipykernel)",
   "language": "python",
   "name": "python3"
  },
  "language_info": {
   "codemirror_mode": {
    "name": "ipython",
    "version": 3
   },
   "file_extension": ".py",
   "mimetype": "text/x-python",
   "name": "python",
   "nbconvert_exporter": "python",
   "pygments_lexer": "ipython3",
   "version": "3.10.8"
  }
 },
 "nbformat": 4,
 "nbformat_minor": 5
}
