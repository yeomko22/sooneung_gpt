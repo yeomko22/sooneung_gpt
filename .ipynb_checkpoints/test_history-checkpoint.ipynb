{
 "cells": [
  {
   "cell_type": "code",
   "execution_count": 1,
   "id": "2ee19b42-efac-49b1-b485-193131e8a4ed",
   "metadata": {},
   "outputs": [],
   "source": [
    "from openai import OpenAI\n",
    "import os\n",
    "\n",
    "client = OpenAI(api_key=os.environ[\"OPENAI_API_KEY\"])"
   ]
  },
  {
   "cell_type": "code",
   "execution_count": 2,
   "id": "5156f2ff-9792-46bf-acfa-b11422c43ac7",
   "metadata": {},
   "outputs": [],
   "source": [
    "system_message = \"\"\"\n",
    "당신은 한국의 고3 수험생입니다.\n",
    "혼신의 힘을 다해서 영어 영역 시험을 쳐야합니다.\n",
    "\"\"\""
   ]
  },
  {
   "cell_type": "code",
   "execution_count": 3,
   "id": "bec1e382-2723-4b1c-bb86-f542c207df76",
   "metadata": {},
   "outputs": [],
   "source": [
    "def request_chat_completion(prompt):\n",
    "    chat_completion = client.chat.completions.create(\n",
    "        messages=[\n",
    "            {\"role\": \"system\", \"content\": system_message},\n",
    "            {\"role\": \"user\", \"content\": prompt}\n",
    "        ],\n",
    "        model=\"gpt-4-1106-preview\",\n",
    "    )\n",
    "    return chat_completion.choices[0].message.content"
   ]
  },
  {
   "cell_type": "code",
   "execution_count": 4,
   "id": "48bc2ba8-951b-4455-8f0a-7d4ca294626a",
   "metadata": {},
   "outputs": [
    {
     "data": {
      "text/plain": [
       "'네, 저는 영어 온라인 조교 AI로서 테스트에 직접적으로 응시할 수는 없지만, 영어 시험을 준비하는 데 필요한 조언, 리소스, 공부 전략을 제공할 수 있습니다. 시험 준비에 필요한 특정한 도움이나 질문이 있다면 알려주세요!'"
      ]
     },
     "execution_count": 4,
     "metadata": {},
     "output_type": "execute_result"
    }
   ],
   "source": [
    "request_chat_completion(\"준비 됐나요?\")"
   ]
  },
  {
   "cell_type": "markdown",
   "id": "ffd921f8-3775-4ab4-916c-fbd249a1390d",
   "metadata": {},
   "source": [
    "## 가보자구~"
   ]
  },
  {
   "cell_type": "code",
   "execution_count": 4,
   "id": "3ad92b57-3b72-4881-8ba6-cf08d232cf2b",
   "metadata": {},
   "outputs": [
    {
     "name": "stdout",
     "output_type": "stream",
     "text": [
      "\n",
      "Q. 다음을 듣고, 여자가 하는 말의 목적으로 가장 적절한 것을 고르시오.\n",
      "\n",
      "W: Hello, Timberglade High School students. This is your P.E. teacher, Ms.\n",
      "Larsen. I’d like to announce that we’re looking for volunteers to help with\n",
      "the charity soccer match next month. As you know, our best players will\n",
      "compete against our graduates at Ebanwood Stadium. Volunteers will show\n",
      "the audience to their seats and tidy up after the match. All the money from\n",
      "the ticket sales will get donated to the local children’s hospital. This will be\n",
      "a great opportunity to get involved in helping children. Please don’t hesitate\n",
      "to apply for this volunteer work at our charity soccer match. For more\n",
      "information, you can check the school website. Thank you.\n",
      "\n",
      "① 축구 경기장 사용 수칙을 설명하려고\n",
      "② 지역 아동 병원의 개원을 홍보하려고\n",
      "③ 자선 축구 경기의 변경된 일정을 공지하려고\n",
      "④ 축구 경기 티켓의 구매 사이트를 소개하려고\n",
      "⑤ 자선 축구 경기 자원봉사자 모집을 안내하려고\n",
      "\n"
     ]
    }
   ],
   "source": [
    "from eng.data import data\n",
    "\n",
    "print(data[0])"
   ]
  },
  {
   "cell_type": "code",
   "execution_count": 5,
   "id": "0e322066-4f8c-49ea-b0c8-031b15eab43e",
   "metadata": {},
   "outputs": [],
   "source": [
    "prompt_template = \"\"\"\n",
    "지문을 읽고 문제를 풀어주세요.\n",
    "풀이 과정을 먼저 작성하고, 마지막에 답을 작성하세요.\n",
    "인생에 정말 중요한 시험이니, 신중하게 문제를 풀어주세요.\n",
    "아래 포맷으로 답변을 작성해주세요.\n",
    "\n",
    "풀이 과정: <단계별 풀이 과정>\n",
    "정답: <정답에 해당하는 선택지>\n",
    "\n",
    "---\n",
    "{question}\n",
    "---\n",
    "\"\"\".strip()"
   ]
  },
  {
   "cell_type": "code",
   "execution_count": 15,
   "id": "55f4a8ff-2587-40bd-8ace-e37db6d84460",
   "metadata": {},
   "outputs": [],
   "source": [
    "from eng.questions import *\n",
    "\n",
    "# 23, 30, 37, 43, 44\n",
    "data = [\n",
    "    (23, question_23),\n",
    "    (30, question_30),\n",
    "    (37, question_37),\n",
    "    (43, question_43),\n",
    "    (44, question_44),\n",
    "]"
   ]
  },
  {
   "cell_type": "code",
   "execution_count": 16,
   "id": "66749964-2e88-49dc-925b-c32eab9d1428",
   "metadata": {},
   "outputs": [
    {
     "name": "stdout",
     "output_type": "stream",
     "text": [
      "\n",
      "Q. 다음 글의 주제로 가장 적절한 것은?\n",
      "\n",
      "Managers of natural resources typically face market\n",
      "incentives that provide financial rewards for exploitation. For\n",
      "example, owners of forest lands have a market incentive to cut\n",
      "down trees rather than manage the forest for carbon capture,\n",
      "wildlife habitat, flood protection, and other ecosystem services.\n",
      "These services provide the owner with no financial benefits,\n",
      "and thus are unlikely to influence management decisions. But\n",
      "the economic benefits provided by these services, based on\n",
      "their non-market values, may exceed the economic value of the\n",
      "timber. For example, a United Nations initiative has estimated\n",
      "that the economic benefits of ecosystem services provided by\n",
      "tropical forests, including climate regulation, water purification,\n",
      "and erosion prevention, are over three times greater per hectare\n",
      "than the market benefits. Thus cutting down the trees is\n",
      "economically inefficient, and markets are not sending the correct\n",
      "“signal” to favor ecosystem services over extractive uses.\n",
      "* exploitation: 이용 ** timber: 목재\n",
      "\n",
      "① necessity of calculating the market values of ecosystem services\n",
      "② significance of weighing forest resources’ non-market values\n",
      "③ impact of using forest resources to maximize financial benefits\n",
      "④ merits of balancing forests’ market and non-market values\n",
      "⑤ ways of increasing the efficiency of managing natural resources\n",
      "\n"
     ]
    }
   ],
   "source": [
    "print(data[0][1])"
   ]
  },
  {
   "cell_type": "code",
   "execution_count": 17,
   "id": "402193b7-da54-48e5-82b0-a85fec002b33",
   "metadata": {},
   "outputs": [
    {
     "data": {
      "application/vnd.jupyter.widget-view+json": {
       "model_id": "c9dc0d857b15436e96abfc77ba1dbbda",
       "version_major": 2,
       "version_minor": 0
      },
      "text/plain": [
       "  0%|          | 0/5 [00:00<?, ?it/s]"
      ]
     },
     "metadata": {},
     "output_type": "display_data"
    }
   ],
   "source": [
    "from tqdm.notebook import tqdm\n",
    "import json\n",
    "\n",
    "for num, question in tqdm(data, total=len(data)):\n",
    "    prompt = prompt_template.format(question=question.strip())\n",
    "    try:\n",
    "        gpt_answer = request_chat_completion(prompt)\n",
    "        with open(f\"./eng_answers/2024/{str(num).zfill(2)}.txt\", \"w\") as fw:\n",
    "            fw.write(gpt_answer)\n",
    "    except Exception as e:\n",
    "        print(\"exception!\", e, paragraph, question)\n",
    "        continue"
   ]
  },
  {
   "cell_type": "code",
   "execution_count": null,
   "id": "6e286bb6-918a-4f9a-96d8-15057080ef5d",
   "metadata": {},
   "outputs": [],
   "source": []
  }
 ],
 "metadata": {
  "kernelspec": {
   "display_name": "Python 3 (ipykernel)",
   "language": "python",
   "name": "python3"
  },
  "language_info": {
   "codemirror_mode": {
    "name": "ipython",
    "version": 3
   },
   "file_extension": ".py",
   "mimetype": "text/x-python",
   "name": "python",
   "nbconvert_exporter": "python",
   "pygments_lexer": "ipython3",
   "version": "3.10.8"
  }
 },
 "nbformat": 4,
 "nbformat_minor": 5
}
