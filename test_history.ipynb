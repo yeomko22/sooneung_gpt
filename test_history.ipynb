{
 "cells": [
  {
   "cell_type": "code",
   "execution_count": 1,
   "id": "2ee19b42-efac-49b1-b485-193131e8a4ed",
   "metadata": {},
   "outputs": [],
   "source": [
    "from openai import OpenAI\n",
    "import os\n",
    "\n",
    "client = OpenAI(api_key=os.environ[\"OPENAI_API_KEY\"])"
   ]
  },
  {
   "cell_type": "code",
   "execution_count": 2,
   "id": "5156f2ff-9792-46bf-acfa-b11422c43ac7",
   "metadata": {},
   "outputs": [],
   "source": [
    "system_message = \"\"\"\n",
    "당신은 한국의 고3 수험생입니다.\n",
    "혼신의 힘을 다해서 한국사 영역 시험을 쳐야합니다.\n",
    "\"\"\""
   ]
  },
  {
   "cell_type": "code",
   "execution_count": 3,
   "id": "bec1e382-2723-4b1c-bb86-f542c207df76",
   "metadata": {},
   "outputs": [],
   "source": [
    "def request_chat_completion(prompt):\n",
    "    chat_completion = client.chat.completions.create(\n",
    "        messages=[\n",
    "            {\"role\": \"system\", \"content\": system_message},\n",
    "            {\"role\": \"user\", \"content\": prompt}\n",
    "        ],\n",
    "        model=\"gpt-4-1106-preview\",\n",
    "    )\n",
    "    return chat_completion.choices[0].message.content"
   ]
  },
  {
   "cell_type": "code",
   "execution_count": 4,
   "id": "48bc2ba8-951b-4455-8f0a-7d4ca294626a",
   "metadata": {},
   "outputs": [
    {
     "data": {
      "text/plain": [
       "'네, 열심히 준비했습니다. 한국사는 역사의 흐름을 파악하고 중요한 사건, 인물, 날짜 등을 잘 암기하며, 그 사건들이 오늘날 우리 사회에 어떤 영향을 끼쳤는지 이해하는 것이 중요합니다. 또한 다양한 시대별로 중요한 특징들을 구분하고, 기출문제를 통해 출제 경향을 파악하는 것도 중요합니다.\\n\\n공부를 하는 과정에서 궁금한 점이 생기면 언제든지 질문해 주세요. 시험 준비에 최선을 다해 도와드리겠습니다. 화이팅!'"
      ]
     },
     "execution_count": 4,
     "metadata": {},
     "output_type": "execute_result"
    }
   ],
   "source": [
    "request_chat_completion(\"준비 됐나요?\")"
   ]
  },
  {
   "cell_type": "markdown",
   "id": "ffd921f8-3775-4ab4-916c-fbd249a1390d",
   "metadata": {},
   "source": [
    "## 가보자구~"
   ]
  },
  {
   "cell_type": "code",
   "execution_count": 5,
   "id": "3ad92b57-3b72-4881-8ba6-cf08d232cf2b",
   "metadata": {},
   "outputs": [
    {
     "name": "stdout",
     "output_type": "stream",
     "text": [
      "\n",
      "Q. 밑줄 친 ‘이 시대’에 대한 설명으로 옳은 것은?\n",
      "[고인돌 사진]\n",
      "이 시대의 대표적인 무덤은 고인돌이었습니다. 고인돌을 만드는 데는 많은 노동력이 필요했습니다.\n",
      "이 시대에는 농업 생산량이 늘어났고 계급이 발생했으며 군장이 나타났습니다.\n",
      "\n",
      "① 상평통보가 전국적으로 유통되었다.\n",
      "② 석굴암 본존 불상이 만들어졌다.\n",
      "③ 팔관회와 연등회가 개최되었다.\n",
      "④ 지방에 서원이 설립되었다.\n",
      "⑤ 비파형 동검이 제작되었다.\n",
      "\n"
     ]
    }
   ],
   "source": [
    "from data.history.data import data\n",
    "\n",
    "print(data[0])"
   ]
  },
  {
   "cell_type": "code",
   "execution_count": 6,
   "id": "0e322066-4f8c-49ea-b0c8-031b15eab43e",
   "metadata": {},
   "outputs": [],
   "source": [
    "prompt_template = \"\"\"\n",
    "지문을 읽고 문제를 풀어주세요.\n",
    "풀이 과정을 먼저 작성하고, 마지막에 답을 작성하세요.\n",
    "인생에 정말 중요한 시험이니, 신중하게 문제를 풀어주세요.\n",
    "아래 포맷으로 답변을 작성해주세요.\n",
    "\n",
    "풀이 과정: <단계별 풀이 과정>\n",
    "정답: <정답에 해당하는 선택지>\n",
    "\n",
    "---\n",
    "{question}\n",
    "---\n",
    "\"\"\".strip()"
   ]
  },
  {
   "cell_type": "code",
   "execution_count": 7,
   "id": "402193b7-da54-48e5-82b0-a85fec002b33",
   "metadata": {},
   "outputs": [
    {
     "data": {
      "application/vnd.jupyter.widget-view+json": {
       "model_id": "a73fd35780234f7fa5e6f7549c6a3211",
       "version_major": 2,
       "version_minor": 0
      },
      "text/plain": [
       "  0%|          | 0/20 [00:00<?, ?it/s]"
      ]
     },
     "metadata": {},
     "output_type": "display_data"
    }
   ],
   "source": [
    "from tqdm.notebook import tqdm\n",
    "import json\n",
    "\n",
    "for i, question in tqdm(enumerate(data), total=len(data)):\n",
    "    prompt = prompt_template.format(question=question.strip())\n",
    "    try:\n",
    "        gpt_answer = request_chat_completion(prompt)\n",
    "        with open(f\"./answers/history/{str(i+1).zfill(2)}.txt\", \"w\") as fw:\n",
    "            fw.write(gpt_answer)\n",
    "    except Exception as e:\n",
    "        print(\"exception!\", e, paragraph, question)\n",
    "        continue"
   ]
  },
  {
   "cell_type": "code",
   "execution_count": null,
   "id": "6e286bb6-918a-4f9a-96d8-15057080ef5d",
   "metadata": {},
   "outputs": [],
   "source": []
  }
 ],
 "metadata": {
  "kernelspec": {
   "display_name": "Python 3 (ipykernel)",
   "language": "python",
   "name": "python3"
  },
  "language_info": {
   "codemirror_mode": {
    "name": "ipython",
    "version": 3
   },
   "file_extension": ".py",
   "mimetype": "text/x-python",
   "name": "python",
   "nbconvert_exporter": "python",
   "pygments_lexer": "ipython3",
   "version": "3.10.8"
  }
 },
 "nbformat": 4,
 "nbformat_minor": 5
}
